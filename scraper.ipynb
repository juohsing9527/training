{
 "cells": [
  {
   "cell_type": "code",
   "execution_count": 2,
   "metadata": {},
   "outputs": [
    {
     "name": "stderr",
     "output_type": "stream",
     "text": [
      "/usr/local/lib/python3.7/site-packages/requests/__init__.py:91: RequestsDependencyWarning: urllib3 (1.26.12) or chardet (3.0.4) doesn't match a supported version!\n",
      "  RequestsDependencyWarning)\n"
     ]
    }
   ],
   "source": [
    "from selenium import webdriver    \n",
    "from selenium.webdriver import Chrome\n",
    "from webdriver_manager.chrome import ChromeDriverManager\n",
    "from selenium.webdriver.common.by import By\n",
    "from selenium.common.exceptions import NoSuchElementException\n",
    "from selenium.webdriver.common.keys import Keys \n",
    "import time\n",
    "from selenium.webdriver.common.alert import Alert\n",
    "from selenium.webdriver.common.action_chains import ActionChains\n",
    "from selenium.webdriver.support import expected_conditions as EC\n",
    "from selenium.webdriver.support.ui import WebDriverWait"
   ]
  },
  {
   "cell_type": "markdown",
   "metadata": {},
   "source": [
    "### CLASS1"
   ]
  },
  {
   "cell_type": "code",
   "execution_count": 41,
   "metadata": {},
   "outputs": [],
   "source": [
    "url_ = \"https://quotes.toscrape.com/\"\n",
    "xpath_tag_ = \"//div[@class='col-md-4 tags-box']//span[@class='tag-item']\"\n",
    "xpath_qu_ = \"//div[@class='col-md-8']//div[@class='quote']\"\n",
    "class ScrapeQuotes:\n",
    "    def __init__(self, url, xpath_qu, xpath_tag, num_tag):\n",
    "        \"\"\" \n",
    "        url: must be \"https://website address\"\n",
    "        xpath_qu: xpath of quotes\n",
    "        xpath_tag: xpath of top ten tags\n",
    "        num_tag: must be int\n",
    "        qu_dict: must be dictionary \"\"\"\n",
    "\n",
    "        self.url = url\n",
    "        self.xpath_qu = xpath_qu\n",
    "        self.num_tag = num_tag\n",
    "        self.xpath_tag = xpath_tag\n",
    "        self.qu_dict = {}\n",
    "        self.driver = None\n",
    "\n",
    "\n",
    "    def open_browser(self):\n",
    "        #open browser and go to the url website\n",
    "        \n",
    "        self.driver = webdriver.Chrome(ChromeDriverManager().install())\n",
    "        self.driver.get(self.url)\n",
    "        self.driver.maximize_window()\n",
    "        \n",
    "    def scrape_quotes(self):\n",
    "        #scrape all quotes within the same tag and put into the same key in dictionary\n",
    "        \n",
    "        # quote[]: list to store quotes\n",
    "        quote = []\n",
    "\n",
    "        # page: adding a new page to current dictionary\n",
    "        page = len(self.qu_dict) + 1\n",
    "\n",
    "        # quote_parents: n-quote divs\n",
    "        quote_parents = self.driver.find_elements(By.XPATH, self.xpath_qu)\n",
    "        \n",
    "        #scroll to the bottom\n",
    "        self.driver.execute_script(\"window.scrollBy(0, document.body.scrollHeight)\")\n",
    "        \n",
    "        #scrape quotes on the same page into a list \n",
    "        for i in quote_parents:\n",
    "            quote.append(i.find_element(By.CLASS_NAME, \"text\").text) \n",
    "        \n",
    "        # qu_dict = {\"page\":\"quote list\"}\n",
    "        self.qu_dict[page] = quote\n",
    "\n",
    "        # check if next button exist click on next button and scrape the next page\n",
    "        try:\n",
    "            self.driver.find_element(By.XPATH, \"//li[@class='next']//a\").click()\n",
    "            time.sleep(3)\n",
    "            self.scrape_quotes()\n",
    "\n",
    "        # if next button doesn't exist, go back to the top of the page and continue\n",
    "        except NoSuchElementException:\n",
    "            self.driver.execute_script(\"window.scrollTo(0, 0)\")\n",
    "            pass\n",
    "    \n",
    "    def scrape_quotes_from_top_tags(self):\n",
    "        #scrape quotes from top-n tags\n",
    "        \n",
    "        tag_list = []\n",
    "        self.open_browser()\n",
    "\n",
    "        # tags: 10 tag buttons\n",
    "        tags = self.driver.find_elements(By.XPATH, self.xpath_tag)\n",
    "        \n",
    "        # put tags into string list \n",
    "        for t in tags:\n",
    "            tag_list.append(t.text)\n",
    "            \n",
    "        #click on top-n tags to do the scraping \n",
    "        for index in range(0, self.num_tag):\n",
    "            #tag = tags[index].text\n",
    "            self.driver.find_element(By.PARTIAL_LINK_TEXT , tag_list[index]).click()\n",
    "            time.sleep(3)\n",
    "            self.scrape_quotes()\n",
    "\n",
    "        #close the driver\n",
    "        self.driver.quit()\n",
    "\n",
    "        "
   ]
  },
  {
   "cell_type": "code",
   "execution_count": 46,
   "metadata": {},
   "outputs": [
    {
     "ename": "ImportError",
     "evalue": "cannot import name 'login' from 'mypass' (/Users/mei/Desktop/python_practice/VS_python/mypass.py)",
     "output_type": "error",
     "traceback": [
      "\u001b[0;31m---------------------------------------------------------------------------\u001b[0m",
      "\u001b[0;31mImportError\u001b[0m                               Traceback (most recent call last)",
      "\u001b[0;32m<ipython-input-46-b6c0b646ada0>\u001b[0m in \u001b[0;36m<module>\u001b[0;34m\u001b[0m\n\u001b[0;32m----> 1\u001b[0;31m \u001b[0;32mfrom\u001b[0m \u001b[0mmypass\u001b[0m \u001b[0;32mimport\u001b[0m \u001b[0mlogin\u001b[0m\u001b[0;34m\u001b[0m\u001b[0;34m\u001b[0m\u001b[0m\n\u001b[0m",
      "\u001b[0;31mImportError\u001b[0m: cannot import name 'login' from 'mypass' (/Users/mei/Desktop/python_practice/VS_python/mypass.py)"
     ]
    }
   ],
   "source": [
    "from mypass import login\n"
   ]
  },
  {
   "cell_type": "code",
   "execution_count": 42,
   "metadata": {},
   "outputs": [
    {
     "name": "stderr",
     "output_type": "stream",
     "text": [
      "/usr/local/lib/python3.7/site-packages/ipykernel_launcher.py:24: DeprecationWarning: executable_path has been deprecated, please pass in a Service object\n"
     ]
    }
   ],
   "source": [
    "test1 = ScrapeQuotes(url_, xpath_qu_, xpath_tag_, 2)\n",
    "test1.scrape_quotes_from_top_tags()"
   ]
  },
  {
   "cell_type": "code",
   "execution_count": 9,
   "metadata": {},
   "outputs": [
    {
     "name": "stdout",
     "output_type": "stream",
     "text": [
      "['“There are only two ways to live your life. One is as though nothing is a miracle. The other is as though everything is a miracle.”', \"“Imperfection is beauty, madness is genius and it's better to be absolutely ridiculous than absolutely boring.”\", \"“I have not failed. I've just found 10,000 ways that won't work.”\", \"“This life is what you make it. No matter what, you're going to mess up sometimes, it's a universal truth. But the good part is you get to decide how you're going to mess it up. Girls will be your friends - they'll act like it anyway. But just remember, some come, some go. The ones that stay with you through everything - they're your true best friends. Don't let go of them. Also remember, sisters make the best friends in the world. As for lovers, well, they'll come and go too. And baby, I hate to say it, most of them - actually pretty much all of them are going to break your heart, but you can't give up because if you give up, you'll never find your soulmate. You'll never find that half who makes you whole and that goes for everything. Just because you fail once, doesn't mean you're gonna fail at everything. Keep trying, hold on, and always, always, always believe in yourself, because if you don't, then who will, sweetie? So keep your head high, keep your chin up, and most importantly, keep smiling, because life's a beautiful thing and there's so much to smile about.”\", \"“The opposite of love is not hate, it's indifference. The opposite of art is not ugliness, it's indifference. The opposite of faith is not heresy, it's indifference. And the opposite of life is not death, it's indifference.”\", '“To the well-organized mind, death is but the next great adventure.”', '“It is never too late to be what you might have been.”', '“You can never get a cup of tea large enough or a book long enough to suit me.”', '“Only in the darkness can you see the stars.”', '“When one door of happiness closes, another opens; but often we look so long at the closed door that we do not see the one which has been opened for us.”']\n"
     ]
    }
   ],
   "source": [
    "print(test1.qu_dict[3])"
   ]
  },
  {
   "cell_type": "markdown",
   "metadata": {},
   "source": [
    "### Glass door"
   ]
  },
  {
   "cell_type": "code",
   "execution_count": 10,
   "metadata": {},
   "outputs": [],
   "source": [
    "class open_browser:\n",
    "    def __init__(self, url):\n",
    "        self.url = url\n",
    "        self.driver = None\n",
    "\n",
    "    def open(self):\n",
    "        self.driver = webdriver.Chrome(ChromeDriverManager().install())\n",
    "        self.driver.get(self.url)\n",
    "\n",
    "        return self.driver\n",
    "        "
   ]
  },
  {
   "cell_type": "code",
   "execution_count": 22,
   "metadata": {},
   "outputs": [
    {
     "name": "stderr",
     "output_type": "stream",
     "text": [
      "/usr/local/lib/python3.7/site-packages/ipykernel_launcher.py:7: DeprecationWarning: executable_path has been deprecated, please pass in a Service object\n",
      "  import sys\n"
     ]
    }
   ],
   "source": [
    "url = 'https:glassdoor.com'\n",
    "driver = open_browser(url).open()\n",
    "google_btn = '//button[@class=\"google gd-btn short\"]'\n",
    "\n",
    "wait = WebDriverWait(driver, 10).until(EC.element_to_be_clickable((By.XPATH, google_btn)))\n",
    "google_btn_ = driver.find_element(By.XPATH, google_btn).click()\n"
   ]
  },
  {
   "cell_type": "code",
   "execution_count": 30,
   "metadata": {},
   "outputs": [],
   "source": [
    "homepage = driver.window_handles[0]\n",
    "login_page = driver.window_handles[1]\n",
    "driver.switch_to.window(login_page)\n",
    "\n"
   ]
  },
  {
   "cell_type": "code",
   "execution_count": 32,
   "metadata": {},
   "outputs": [],
   "source": [
    "input_email = ActionChains(driver)\n",
    "# action started\n",
    "emailID = 'identifierId' # input ID\n",
    "next_btn = '//div[@id=\"identifierNext\"]//button'\n",
    "emailID_ = driver.find_element(By.ID, emailID)\n",
    "next_btn_ = driver.find_element(By.XPATH, next_btn)\n",
    "\n",
    "input_email.send_keys_to_element(emailID_, 'rose30820@gmail.com').click(next_btn_).perform()"
   ]
  },
  {
   "cell_type": "code",
   "execution_count": 15,
   "metadata": {},
   "outputs": [
    {
     "ename": "NoSuchElementException",
     "evalue": "Message: no such element: Unable to locate element: {\"method\":\"css selector\",\"selector\":\"[id=\"identifierId\"]\"}\n  (Session info: chrome=105.0.5195.125)\nStacktrace:\n0   chromedriver                        0x0000000106c6a788 chromedriver + 4515720\n1   chromedriver                        0x0000000106bee9d3 chromedriver + 4008403\n2   chromedriver                        0x000000010688112a chromedriver + 413994\n3   chromedriver                        0x00000001068b8873 chromedriver + 641139\n4   chromedriver                        0x00000001068b8a61 chromedriver + 641633\n5   chromedriver                        0x00000001068eaf64 chromedriver + 847716\n6   chromedriver                        0x00000001068d57fd chromedriver + 759805\n7   chromedriver                        0x00000001068e8bd9 chromedriver + 838617\n8   chromedriver                        0x00000001068d5603 chromedriver + 759299\n9   chromedriver                        0x00000001068ab990 chromedriver + 588176\n10  chromedriver                        0x00000001068aca75 chromedriver + 592501\n11  chromedriver                        0x0000000106c3a6cd chromedriver + 4318925\n12  chromedriver                        0x0000000106c3ef35 chromedriver + 4337461\n13  chromedriver                        0x0000000106c461ff chromedriver + 4366847\n14  chromedriver                        0x0000000106c3fc5a chromedriver + 4340826\n15  chromedriver                        0x0000000106c15c2c chromedriver + 4168748\n16  chromedriver                        0x0000000106c5c4f8 chromedriver + 4457720\n17  chromedriver                        0x0000000106c5c693 chromedriver + 4458131\n18  chromedriver                        0x0000000106c71a3e chromedriver + 4545086\n19  libsystem_pthread.dylib             0x00007fff209818fc _pthread_start + 224\n20  libsystem_pthread.dylib             0x00007fff2097d443 thread_start + 15\n",
     "output_type": "error",
     "traceback": [
      "\u001b[0;31m---------------------------------------------------------------------------\u001b[0m",
      "\u001b[0;31mNoSuchElementException\u001b[0m                    Traceback (most recent call last)",
      "\u001b[0;32m<ipython-input-15-bf5ed86b6d43>\u001b[0m in \u001b[0;36m<module>\u001b[0;34m\u001b[0m\n\u001b[1;32m      1\u001b[0m \u001b[0mgoogle_btn_\u001b[0m \u001b[0;34m=\u001b[0m \u001b[0mdriver\u001b[0m\u001b[0;34m.\u001b[0m\u001b[0mfind_element\u001b[0m\u001b[0;34m(\u001b[0m\u001b[0mBy\u001b[0m\u001b[0;34m.\u001b[0m\u001b[0mXPATH\u001b[0m\u001b[0;34m,\u001b[0m \u001b[0mgoogle_btn\u001b[0m\u001b[0;34m)\u001b[0m\u001b[0;34m\u001b[0m\u001b[0;34m\u001b[0m\u001b[0m\n\u001b[0;32m----> 2\u001b[0;31m \u001b[0muser_input\u001b[0m \u001b[0;34m=\u001b[0m \u001b[0mdriver\u001b[0m\u001b[0;34m.\u001b[0m\u001b[0mfind_element\u001b[0m\u001b[0;34m(\u001b[0m\u001b[0mBy\u001b[0m\u001b[0;34m.\u001b[0m\u001b[0mID\u001b[0m\u001b[0;34m,\u001b[0m \u001b[0memailID\u001b[0m\u001b[0;34m)\u001b[0m\u001b[0;34m\u001b[0m\u001b[0;34m\u001b[0m\u001b[0m\n\u001b[0m\u001b[1;32m      3\u001b[0m \u001b[0mnext_\u001b[0m \u001b[0;34m=\u001b[0m \u001b[0mdriver\u001b[0m\u001b[0;34m.\u001b[0m\u001b[0mfind_element\u001b[0m\u001b[0;34m(\u001b[0m\u001b[0mBy\u001b[0m\u001b[0;34m.\u001b[0m\u001b[0mXPATH\u001b[0m\u001b[0;34m,\u001b[0m \u001b[0mnext_btn\u001b[0m\u001b[0;34m)\u001b[0m\u001b[0;34m\u001b[0m\u001b[0;34m\u001b[0m\u001b[0m\n",
      "\u001b[0;32m/usr/local/lib/python3.7/site-packages/selenium/webdriver/remote/webdriver.py\u001b[0m in \u001b[0;36mfind_element\u001b[0;34m(self, by, value)\u001b[0m\n\u001b[1;32m    855\u001b[0m         return self.execute(Command.FIND_ELEMENT, {\n\u001b[1;32m    856\u001b[0m             \u001b[0;34m'using'\u001b[0m\u001b[0;34m:\u001b[0m \u001b[0mby\u001b[0m\u001b[0;34m,\u001b[0m\u001b[0;34m\u001b[0m\u001b[0;34m\u001b[0m\u001b[0m\n\u001b[0;32m--> 857\u001b[0;31m             'value': value})['value']\n\u001b[0m\u001b[1;32m    858\u001b[0m \u001b[0;34m\u001b[0m\u001b[0m\n\u001b[1;32m    859\u001b[0m     \u001b[0;32mdef\u001b[0m \u001b[0mfind_elements\u001b[0m\u001b[0;34m(\u001b[0m\u001b[0mself\u001b[0m\u001b[0;34m,\u001b[0m \u001b[0mby\u001b[0m\u001b[0;34m=\u001b[0m\u001b[0mBy\u001b[0m\u001b[0;34m.\u001b[0m\u001b[0mID\u001b[0m\u001b[0;34m,\u001b[0m \u001b[0mvalue\u001b[0m\u001b[0;34m=\u001b[0m\u001b[0;32mNone\u001b[0m\u001b[0;34m)\u001b[0m \u001b[0;34m->\u001b[0m \u001b[0mList\u001b[0m\u001b[0;34m[\u001b[0m\u001b[0mWebElement\u001b[0m\u001b[0;34m]\u001b[0m\u001b[0;34m:\u001b[0m\u001b[0;34m\u001b[0m\u001b[0;34m\u001b[0m\u001b[0m\n",
      "\u001b[0;32m/usr/local/lib/python3.7/site-packages/selenium/webdriver/remote/webdriver.py\u001b[0m in \u001b[0;36mexecute\u001b[0;34m(self, driver_command, params)\u001b[0m\n\u001b[1;32m    426\u001b[0m         \u001b[0mresponse\u001b[0m \u001b[0;34m=\u001b[0m \u001b[0mself\u001b[0m\u001b[0;34m.\u001b[0m\u001b[0mcommand_executor\u001b[0m\u001b[0;34m.\u001b[0m\u001b[0mexecute\u001b[0m\u001b[0;34m(\u001b[0m\u001b[0mdriver_command\u001b[0m\u001b[0;34m,\u001b[0m \u001b[0mparams\u001b[0m\u001b[0;34m)\u001b[0m\u001b[0;34m\u001b[0m\u001b[0;34m\u001b[0m\u001b[0m\n\u001b[1;32m    427\u001b[0m         \u001b[0;32mif\u001b[0m \u001b[0mresponse\u001b[0m\u001b[0;34m:\u001b[0m\u001b[0;34m\u001b[0m\u001b[0;34m\u001b[0m\u001b[0m\n\u001b[0;32m--> 428\u001b[0;31m             \u001b[0mself\u001b[0m\u001b[0;34m.\u001b[0m\u001b[0merror_handler\u001b[0m\u001b[0;34m.\u001b[0m\u001b[0mcheck_response\u001b[0m\u001b[0;34m(\u001b[0m\u001b[0mresponse\u001b[0m\u001b[0;34m)\u001b[0m\u001b[0;34m\u001b[0m\u001b[0;34m\u001b[0m\u001b[0m\n\u001b[0m\u001b[1;32m    429\u001b[0m             response['value'] = self._unwrap_value(\n\u001b[1;32m    430\u001b[0m                 response.get('value', None))\n",
      "\u001b[0;32m/usr/local/lib/python3.7/site-packages/selenium/webdriver/remote/errorhandler.py\u001b[0m in \u001b[0;36mcheck_response\u001b[0;34m(self, response)\u001b[0m\n\u001b[1;32m    241\u001b[0m                 \u001b[0malert_text\u001b[0m \u001b[0;34m=\u001b[0m \u001b[0mvalue\u001b[0m\u001b[0;34m[\u001b[0m\u001b[0;34m'alert'\u001b[0m\u001b[0;34m]\u001b[0m\u001b[0;34m.\u001b[0m\u001b[0mget\u001b[0m\u001b[0;34m(\u001b[0m\u001b[0;34m'text'\u001b[0m\u001b[0;34m)\u001b[0m\u001b[0;34m\u001b[0m\u001b[0;34m\u001b[0m\u001b[0m\n\u001b[1;32m    242\u001b[0m             \u001b[0;32mraise\u001b[0m \u001b[0mexception_class\u001b[0m\u001b[0;34m(\u001b[0m\u001b[0mmessage\u001b[0m\u001b[0;34m,\u001b[0m \u001b[0mscreen\u001b[0m\u001b[0;34m,\u001b[0m \u001b[0mstacktrace\u001b[0m\u001b[0;34m,\u001b[0m \u001b[0malert_text\u001b[0m\u001b[0;34m)\u001b[0m  \u001b[0;31m# type: ignore[call-arg]  # mypy is not smart enough here\u001b[0m\u001b[0;34m\u001b[0m\u001b[0;34m\u001b[0m\u001b[0m\n\u001b[0;32m--> 243\u001b[0;31m         \u001b[0;32mraise\u001b[0m \u001b[0mexception_class\u001b[0m\u001b[0;34m(\u001b[0m\u001b[0mmessage\u001b[0m\u001b[0;34m,\u001b[0m \u001b[0mscreen\u001b[0m\u001b[0;34m,\u001b[0m \u001b[0mstacktrace\u001b[0m\u001b[0;34m)\u001b[0m\u001b[0;34m\u001b[0m\u001b[0;34m\u001b[0m\u001b[0m\n\u001b[0m",
      "\u001b[0;31mNoSuchElementException\u001b[0m: Message: no such element: Unable to locate element: {\"method\":\"css selector\",\"selector\":\"[id=\"identifierId\"]\"}\n  (Session info: chrome=105.0.5195.125)\nStacktrace:\n0   chromedriver                        0x0000000106c6a788 chromedriver + 4515720\n1   chromedriver                        0x0000000106bee9d3 chromedriver + 4008403\n2   chromedriver                        0x000000010688112a chromedriver + 413994\n3   chromedriver                        0x00000001068b8873 chromedriver + 641139\n4   chromedriver                        0x00000001068b8a61 chromedriver + 641633\n5   chromedriver                        0x00000001068eaf64 chromedriver + 847716\n6   chromedriver                        0x00000001068d57fd chromedriver + 759805\n7   chromedriver                        0x00000001068e8bd9 chromedriver + 838617\n8   chromedriver                        0x00000001068d5603 chromedriver + 759299\n9   chromedriver                        0x00000001068ab990 chromedriver + 588176\n10  chromedriver                        0x00000001068aca75 chromedriver + 592501\n11  chromedriver                        0x0000000106c3a6cd chromedriver + 4318925\n12  chromedriver                        0x0000000106c3ef35 chromedriver + 4337461\n13  chromedriver                        0x0000000106c461ff chromedriver + 4366847\n14  chromedriver                        0x0000000106c3fc5a chromedriver + 4340826\n15  chromedriver                        0x0000000106c15c2c chromedriver + 4168748\n16  chromedriver                        0x0000000106c5c4f8 chromedriver + 4457720\n17  chromedriver                        0x0000000106c5c693 chromedriver + 4458131\n18  chromedriver                        0x0000000106c71a3e chromedriver + 4545086\n19  libsystem_pthread.dylib             0x00007fff209818fc _pthread_start + 224\n20  libsystem_pthread.dylib             0x00007fff2097d443 thread_start + 15\n"
     ]
    }
   ],
   "source": [
    "\n",
    "google_btn_ = driver.find_element(By.XPATH, google_btn)\n",
    "user_input = driver.find_element(By.ID, emailID)\n",
    "next_ = driver.find_element(By.XPATH, next_btn)\n"
   ]
  },
  {
   "cell_type": "code",
   "execution_count": null,
   "metadata": {},
   "outputs": [],
   "source": [
    "write_email = ActionChains(driver)\n",
    "write_email.click(google_btn_)\n",
    "\n"
   ]
  },
  {
   "cell_type": "markdown",
   "metadata": {},
   "source": [
    "### Transfermarkt\n",
    "\n",
    "transfermarkt.com\n",
    "\n",
    "competitions -> laliga -> club:real madrid -> scroll down -> filter by season 16/17(click on show) ~ 19/20 -> to table of market values -> scrape the chart (compact) -> record all scraping time\n",
    "\n",
    "***wait until\n",
    "** bypass login section \n",
    "** try \n",
    "** action chains\n",
    "** scroll up and down\n",
    "** iframe"
   ]
  },
  {
   "cell_type": "code",
   "execution_count": 2,
   "metadata": {},
   "outputs": [
    {
     "data": {
      "text/plain": [
       "'#main > header > div.quick-select-wrapper > tm-quick-select-bar'"
      ]
     },
     "execution_count": 2,
     "metadata": {},
     "output_type": "execute_result"
    }
   ],
   "source": [
    "from project_func import roots\n",
    "\n",
    "roots[\"css_shadowhost\"]"
   ]
  },
  {
   "cell_type": "code",
   "execution_count": 16,
   "metadata": {},
   "outputs": [],
   "source": [
    "class TransferMarkt():\n",
    "\n",
    "    def __init__(self):\n",
    "        \n",
    "        self.driver = None\n",
    "        self.scrap_time =  []\n",
    "        self.wait = None\n",
    "        self.roots = roots\n",
    "        \n",
    "    def open_browser(self):\n",
    "            \n",
    "        self.driver = webdriver.Chrome(ChromeDriverManager().install())\n",
    "        self.driver.get(roots[\"url\"])\n",
    "\n",
    "        # id of the popup frame\n",
    "        ID_frame = 'sp_message_iframe_575843'\n",
    "        # wait until frame ready\n",
    "        self.wait = WebDriverWait(self.driver, 15)\n",
    "        self.wait.until(EC.frame_to_be_available_and_switch_to_it(self.driver.find_element(By.ID, ID_frame)))\n",
    "        self.driver.find_element(By.XPATH, roots[\"accept_btn\"]).click()\n",
    "        self.driver.switch_to.default_content()\n",
    "        \n",
    "    def go_to_madrid(self):\n",
    "         # goes to spain/laliga/realmadrid page\n",
    "        \n",
    "\n",
    "        competition = self.driver.find_element(By.XPATH, roots[\"xpath_competition\"]).click()\n",
    "        time.sleep(3)\n",
    "\n",
    "        # tried different ways of wait until kept getting NoSuchElement error\n",
    "        # laliga = self.wait.until(EC.visibility_of_all_elements_located((self.driver.find_element(By.XPATH, roots[\"xpath_laliga\"]))))\n",
    "        \n",
    "        self.driver.find_element(By.XPATH, roots[\"xpath_laliga\"]).click()\n",
    "        \n",
    "\n",
    "        # select team (madrid) inside shadow root\n",
    "        shadow_host = self.driver.find_element(By.CSS_SELECTOR, roots[\"css_shadowhost\"])\n",
    "        shadow_root = self.driver.execute_script(roots[\"script\"], shadow_host)\n",
    "        chatbox = shadow_root.find_element(By.CSS_SELECTOR, roots[\"css_chatbox\"]).click()\n",
    "        search = shadow_root.find_element(By.CSS_SELECTOR, roots[\"css_search\"]).send_keys('real madrid')\n",
    "        madrid = shadow_root.find_element(By.CSS_SELECTOR, roots[\"css_madrid\"]).click()\n",
    "        go = shadow_root.find_element(By.CSS_SELECTOR, roots[\"css_go\"]).click()\n",
    "\n",
    "    def scrap_timer(self):\n",
    "        # scrap the table of market value and record scraping time\n",
    "\n",
    "        scrap = ActionChains(self.driver)\n",
    "\n",
    "        for i in range(0, len(roots[\"seasons\"])):\n",
    "\n",
    "            # timer starts\n",
    "            time_st = time.time()\n",
    "\n",
    "            # element located for window scroll\n",
    "            data_main = self.driver.find_element(By.CLASS_NAME, 'dataMain')\n",
    "\n",
    "            # box to click for drop down list \n",
    "            box = self.driver.find_element(By.CLASS_NAME, 'inline-select')\n",
    "            \n",
    "            # show btn\n",
    "            show = self.driver.find_element(By.XPATH, roots[\"xpath_show\"])\n",
    "            \n",
    "            # search box inside dropdown list\n",
    "            find = self.driver.find_element(By.XPATH, roots[\"xpath_find\"] )\n",
    "            \n",
    "            self.driver.execute_script(\"arguments[0].scrollIntoView();\", data_main)\n",
    "            self.wait.until(EC.element_to_be_clickable(box))\n",
    "\n",
    "            # action starts here \n",
    "            scrap.click(box).send_keys_to_element(find, roots[\"seasons\"][i]).send_keys(Keys.ENTER).click(show).perform()        \n",
    "            self.driver.execute_script(\"window.scrollBy(0,500)\")\n",
    "            \n",
    "            # number of rows in the table\n",
    "            row_num = 1 + len(self.driver.find_elements(By.XPATH, roots[\"xpath_table\"]))\n",
    "            \n",
    "            # only the columns with txt not pictures\n",
    "            cols = [1,2,3,6]\n",
    "            \n",
    "            # scrap text from table\n",
    "            for r in range(2,row_num):\n",
    "                for c in cols:\n",
    "                    txt = self.driver.find_element(By.XPATH,\"//table[@class='items']//tr[\"+str(r)+\"]//td[\"+str(c)+\"]\").text\n",
    "\n",
    "            # timer stops\n",
    "            time_fin = time.time()\n",
    "            time_total = time_fin - time_st\n",
    "            self.scrap_time.append(time_total)\n",
    "\n",
    "            season = roots[\"seasons\"][i]\n",
    "            report = f\"Scraping time of season {season} is {time_total}\"\n",
    "            print(report)\n",
    "\n",
    "    def do_all(self):\n",
    "\n",
    "        self.open_browser()\n",
    "        self.go_to_madrid()\n",
    "        self.scrap_timer()\n",
    "\n",
    "        self.driver.quit()\n",
    "        return self.scrap_time\n",
    "\n",
    "        \n",
    "        \n",
    "\n",
    "     \n",
    "        \n",
    "        \n",
    "\n"
   ]
  },
  {
   "cell_type": "code",
   "execution_count": 6,
   "metadata": {},
   "outputs": [
    {
     "name": "stderr",
     "output_type": "stream",
     "text": [
      "/usr/local/lib/python3.7/site-packages/ipykernel_launcher.py:11: DeprecationWarning: executable_path has been deprecated, please pass in a Service object\n",
      "  # This is added back by InteractiveShellApp.init_path()\n"
     ]
    },
    {
     "ename": "NoSuchElementException",
     "evalue": "Message: no such element: Unable to locate element: {\"method\":\"xpath\",\"selector\":\"//*[@id='main']/header/nav/ul/li[4]/div/div[1]/ul/li[2]/a\"}\n  (Session info: chrome=106.0.5249.91)\nStacktrace:\n0   chromedriver                        0x0000000106ff4598 chromedriver + 4404632\n1   chromedriver                        0x0000000106f7bfa3 chromedriver + 3911587\n2   chromedriver                        0x0000000106c28e6a chromedriver + 425578\n3   chromedriver                        0x0000000106c60c91 chromedriver + 654481\n4   chromedriver                        0x0000000106c60e91 chromedriver + 654993\n5   chromedriver                        0x0000000106c98274 chromedriver + 881268\n6   chromedriver                        0x0000000106c7edcd chromedriver + 777677\n7   chromedriver                        0x0000000106c95f79 chromedriver + 872313\n8   chromedriver                        0x0000000106c7ebd3 chromedriver + 777171\n9   chromedriver                        0x0000000106c53ced chromedriver + 601325\n10  chromedriver                        0x0000000106c54e51 chromedriver + 605777\n11  chromedriver                        0x0000000106fc40ce chromedriver + 4206798\n12  chromedriver                        0x0000000106fc8797 chromedriver + 4224919\n13  chromedriver                        0x0000000106fcfa4f chromedriver + 4254287\n14  chromedriver                        0x0000000106fc94da chromedriver + 4228314\n15  chromedriver                        0x0000000106fa223f chromedriver + 4067903\n16  chromedriver                        0x0000000106fe66a8 chromedriver + 4347560\n17  chromedriver                        0x0000000106fe6816 chromedriver + 4347926\n18  chromedriver                        0x0000000106ffb8fe chromedriver + 4434174\n19  libsystem_pthread.dylib             0x00007fff2068f8fc _pthread_start + 224\n20  libsystem_pthread.dylib             0x00007fff2068b443 thread_start + 15\n",
     "output_type": "error",
     "traceback": [
      "\u001b[0;31m---------------------------------------------------------------------------\u001b[0m",
      "\u001b[0;31mNoSuchElementException\u001b[0m                    Traceback (most recent call last)",
      "\u001b[0;32m<ipython-input-6-a127ae89baf3>\u001b[0m in \u001b[0;36m<module>\u001b[0;34m\u001b[0m\n\u001b[1;32m      1\u001b[0m \u001b[0mt\u001b[0m \u001b[0;34m=\u001b[0m \u001b[0mTransferMarkt\u001b[0m\u001b[0;34m(\u001b[0m\u001b[0;34m)\u001b[0m\u001b[0;34m\u001b[0m\u001b[0;34m\u001b[0m\u001b[0m\n\u001b[1;32m      2\u001b[0m \u001b[0mt\u001b[0m\u001b[0;34m.\u001b[0m\u001b[0mopen_browser\u001b[0m\u001b[0;34m(\u001b[0m\u001b[0;34m)\u001b[0m\u001b[0;34m\u001b[0m\u001b[0;34m\u001b[0m\u001b[0m\n\u001b[0;32m----> 3\u001b[0;31m \u001b[0mt\u001b[0m\u001b[0;34m.\u001b[0m\u001b[0mgo_to_madrid\u001b[0m\u001b[0;34m(\u001b[0m\u001b[0;34m)\u001b[0m\u001b[0;34m\u001b[0m\u001b[0;34m\u001b[0m\u001b[0m\n\u001b[0m",
      "\u001b[0;32m<ipython-input-5-ef77b5c076f5>\u001b[0m in \u001b[0;36mgo_to_madrid\u001b[0;34m(self)\u001b[0m\n\u001b[1;32m     27\u001b[0m         \u001b[0;31m# time.sleep(3)\u001b[0m\u001b[0;34m\u001b[0m\u001b[0;34m\u001b[0m\u001b[0;34m\u001b[0m\u001b[0m\n\u001b[1;32m     28\u001b[0m \u001b[0;34m\u001b[0m\u001b[0m\n\u001b[0;32m---> 29\u001b[0;31m         \u001b[0mlaliga\u001b[0m \u001b[0;34m=\u001b[0m \u001b[0mself\u001b[0m\u001b[0;34m.\u001b[0m\u001b[0mwait\u001b[0m\u001b[0;34m.\u001b[0m\u001b[0muntil\u001b[0m\u001b[0;34m(\u001b[0m\u001b[0mEC\u001b[0m\u001b[0;34m.\u001b[0m\u001b[0mvisibility_of_all_elements_located\u001b[0m\u001b[0;34m(\u001b[0m\u001b[0;34m(\u001b[0m\u001b[0mself\u001b[0m\u001b[0;34m.\u001b[0m\u001b[0mdriver\u001b[0m\u001b[0;34m.\u001b[0m\u001b[0mfind_element\u001b[0m\u001b[0;34m(\u001b[0m\u001b[0mBy\u001b[0m\u001b[0;34m.\u001b[0m\u001b[0mXPATH\u001b[0m\u001b[0;34m,\u001b[0m \u001b[0mroots\u001b[0m\u001b[0;34m[\u001b[0m\u001b[0;34m\"xpath_laliga\"\u001b[0m\u001b[0;34m]\u001b[0m\u001b[0;34m)\u001b[0m\u001b[0;34m)\u001b[0m\u001b[0;34m)\u001b[0m\u001b[0;34m)\u001b[0m\u001b[0;34m\u001b[0m\u001b[0;34m\u001b[0m\u001b[0m\n\u001b[0m\u001b[1;32m     30\u001b[0m         \u001b[0mself\u001b[0m\u001b[0;34m.\u001b[0m\u001b[0mdriver\u001b[0m\u001b[0;34m.\u001b[0m\u001b[0mfind_element\u001b[0m\u001b[0;34m(\u001b[0m\u001b[0mBy\u001b[0m\u001b[0;34m.\u001b[0m\u001b[0mXPATH\u001b[0m\u001b[0;34m,\u001b[0m \u001b[0mroots\u001b[0m\u001b[0;34m[\u001b[0m\u001b[0;34m\"xpath_laliga\"\u001b[0m\u001b[0;34m]\u001b[0m\u001b[0;34m)\u001b[0m\u001b[0;34m.\u001b[0m\u001b[0mclick\u001b[0m\u001b[0;34m(\u001b[0m\u001b[0;34m)\u001b[0m\u001b[0;34m\u001b[0m\u001b[0;34m\u001b[0m\u001b[0m\n\u001b[1;32m     31\u001b[0m \u001b[0;34m\u001b[0m\u001b[0m\n",
      "\u001b[0;32m/usr/local/lib/python3.7/site-packages/selenium/webdriver/remote/webdriver.py\u001b[0m in \u001b[0;36mfind_element\u001b[0;34m(self, by, value)\u001b[0m\n\u001b[1;32m    855\u001b[0m         return self.execute(Command.FIND_ELEMENT, {\n\u001b[1;32m    856\u001b[0m             \u001b[0;34m'using'\u001b[0m\u001b[0;34m:\u001b[0m \u001b[0mby\u001b[0m\u001b[0;34m,\u001b[0m\u001b[0;34m\u001b[0m\u001b[0;34m\u001b[0m\u001b[0m\n\u001b[0;32m--> 857\u001b[0;31m             'value': value})['value']\n\u001b[0m\u001b[1;32m    858\u001b[0m \u001b[0;34m\u001b[0m\u001b[0m\n\u001b[1;32m    859\u001b[0m     \u001b[0;32mdef\u001b[0m \u001b[0mfind_elements\u001b[0m\u001b[0;34m(\u001b[0m\u001b[0mself\u001b[0m\u001b[0;34m,\u001b[0m \u001b[0mby\u001b[0m\u001b[0;34m=\u001b[0m\u001b[0mBy\u001b[0m\u001b[0;34m.\u001b[0m\u001b[0mID\u001b[0m\u001b[0;34m,\u001b[0m \u001b[0mvalue\u001b[0m\u001b[0;34m=\u001b[0m\u001b[0;32mNone\u001b[0m\u001b[0;34m)\u001b[0m \u001b[0;34m->\u001b[0m \u001b[0mList\u001b[0m\u001b[0;34m[\u001b[0m\u001b[0mWebElement\u001b[0m\u001b[0;34m]\u001b[0m\u001b[0;34m:\u001b[0m\u001b[0;34m\u001b[0m\u001b[0;34m\u001b[0m\u001b[0m\n",
      "\u001b[0;32m/usr/local/lib/python3.7/site-packages/selenium/webdriver/remote/webdriver.py\u001b[0m in \u001b[0;36mexecute\u001b[0;34m(self, driver_command, params)\u001b[0m\n\u001b[1;32m    426\u001b[0m         \u001b[0mresponse\u001b[0m \u001b[0;34m=\u001b[0m \u001b[0mself\u001b[0m\u001b[0;34m.\u001b[0m\u001b[0mcommand_executor\u001b[0m\u001b[0;34m.\u001b[0m\u001b[0mexecute\u001b[0m\u001b[0;34m(\u001b[0m\u001b[0mdriver_command\u001b[0m\u001b[0;34m,\u001b[0m \u001b[0mparams\u001b[0m\u001b[0;34m)\u001b[0m\u001b[0;34m\u001b[0m\u001b[0;34m\u001b[0m\u001b[0m\n\u001b[1;32m    427\u001b[0m         \u001b[0;32mif\u001b[0m \u001b[0mresponse\u001b[0m\u001b[0;34m:\u001b[0m\u001b[0;34m\u001b[0m\u001b[0;34m\u001b[0m\u001b[0m\n\u001b[0;32m--> 428\u001b[0;31m             \u001b[0mself\u001b[0m\u001b[0;34m.\u001b[0m\u001b[0merror_handler\u001b[0m\u001b[0;34m.\u001b[0m\u001b[0mcheck_response\u001b[0m\u001b[0;34m(\u001b[0m\u001b[0mresponse\u001b[0m\u001b[0;34m)\u001b[0m\u001b[0;34m\u001b[0m\u001b[0;34m\u001b[0m\u001b[0m\n\u001b[0m\u001b[1;32m    429\u001b[0m             response['value'] = self._unwrap_value(\n\u001b[1;32m    430\u001b[0m                 response.get('value', None))\n",
      "\u001b[0;32m/usr/local/lib/python3.7/site-packages/selenium/webdriver/remote/errorhandler.py\u001b[0m in \u001b[0;36mcheck_response\u001b[0;34m(self, response)\u001b[0m\n\u001b[1;32m    241\u001b[0m                 \u001b[0malert_text\u001b[0m \u001b[0;34m=\u001b[0m \u001b[0mvalue\u001b[0m\u001b[0;34m[\u001b[0m\u001b[0;34m'alert'\u001b[0m\u001b[0;34m]\u001b[0m\u001b[0;34m.\u001b[0m\u001b[0mget\u001b[0m\u001b[0;34m(\u001b[0m\u001b[0;34m'text'\u001b[0m\u001b[0;34m)\u001b[0m\u001b[0;34m\u001b[0m\u001b[0;34m\u001b[0m\u001b[0m\n\u001b[1;32m    242\u001b[0m             \u001b[0;32mraise\u001b[0m \u001b[0mexception_class\u001b[0m\u001b[0;34m(\u001b[0m\u001b[0mmessage\u001b[0m\u001b[0;34m,\u001b[0m \u001b[0mscreen\u001b[0m\u001b[0;34m,\u001b[0m \u001b[0mstacktrace\u001b[0m\u001b[0;34m,\u001b[0m \u001b[0malert_text\u001b[0m\u001b[0;34m)\u001b[0m  \u001b[0;31m# type: ignore[call-arg]  # mypy is not smart enough here\u001b[0m\u001b[0;34m\u001b[0m\u001b[0;34m\u001b[0m\u001b[0m\n\u001b[0;32m--> 243\u001b[0;31m         \u001b[0;32mraise\u001b[0m \u001b[0mexception_class\u001b[0m\u001b[0;34m(\u001b[0m\u001b[0mmessage\u001b[0m\u001b[0;34m,\u001b[0m \u001b[0mscreen\u001b[0m\u001b[0;34m,\u001b[0m \u001b[0mstacktrace\u001b[0m\u001b[0;34m)\u001b[0m\u001b[0;34m\u001b[0m\u001b[0;34m\u001b[0m\u001b[0m\n\u001b[0m",
      "\u001b[0;31mNoSuchElementException\u001b[0m: Message: no such element: Unable to locate element: {\"method\":\"xpath\",\"selector\":\"//*[@id='main']/header/nav/ul/li[4]/div/div[1]/ul/li[2]/a\"}\n  (Session info: chrome=106.0.5249.91)\nStacktrace:\n0   chromedriver                        0x0000000106ff4598 chromedriver + 4404632\n1   chromedriver                        0x0000000106f7bfa3 chromedriver + 3911587\n2   chromedriver                        0x0000000106c28e6a chromedriver + 425578\n3   chromedriver                        0x0000000106c60c91 chromedriver + 654481\n4   chromedriver                        0x0000000106c60e91 chromedriver + 654993\n5   chromedriver                        0x0000000106c98274 chromedriver + 881268\n6   chromedriver                        0x0000000106c7edcd chromedriver + 777677\n7   chromedriver                        0x0000000106c95f79 chromedriver + 872313\n8   chromedriver                        0x0000000106c7ebd3 chromedriver + 777171\n9   chromedriver                        0x0000000106c53ced chromedriver + 601325\n10  chromedriver                        0x0000000106c54e51 chromedriver + 605777\n11  chromedriver                        0x0000000106fc40ce chromedriver + 4206798\n12  chromedriver                        0x0000000106fc8797 chromedriver + 4224919\n13  chromedriver                        0x0000000106fcfa4f chromedriver + 4254287\n14  chromedriver                        0x0000000106fc94da chromedriver + 4228314\n15  chromedriver                        0x0000000106fa223f chromedriver + 4067903\n16  chromedriver                        0x0000000106fe66a8 chromedriver + 4347560\n17  chromedriver                        0x0000000106fe6816 chromedriver + 4347926\n18  chromedriver                        0x0000000106ffb8fe chromedriver + 4434174\n19  libsystem_pthread.dylib             0x00007fff2068f8fc _pthread_start + 224\n20  libsystem_pthread.dylib             0x00007fff2068b443 thread_start + 15\n"
     ]
    }
   ],
   "source": [
    "t = TransferMarkt()\n",
    "t.open_browser()\n",
    "t.go_to_madrid()\n"
   ]
  },
  {
   "cell_type": "code",
   "execution_count": 8,
   "metadata": {},
   "outputs": [],
   "source": [
    "t.scrap_timer()"
   ]
  },
  {
   "cell_type": "code",
   "execution_count": 144,
   "metadata": {},
   "outputs": [],
   "source": [
    "t.scrap_timer()\n"
   ]
  },
  {
   "cell_type": "code",
   "execution_count": 9,
   "metadata": {},
   "outputs": [
    {
     "name": "stdout",
     "output_type": "stream",
     "text": [
      "[14.002795934677124, 29.851472854614258, 65.0248692035675, 41.2499680519104, 42.330044984817505, 46.99266719818115]\n"
     ]
    }
   ],
   "source": [
    "print(t.scrap_time)\n"
   ]
  },
  {
   "cell_type": "markdown",
   "metadata": {},
   "source": [
    "### class 4\n"
   ]
  },
  {
   "cell_type": "code",
   "execution_count": 153,
   "metadata": {},
   "outputs": [],
   "source": [
    "import numpy as np\n",
    "\n",
    "def writeyourname(name:str, lastname:float) -> str:\n",
    "    \"\"\" return a name \n",
    "    Arg: \n",
    "        name: type: string,\n",
    "        lastname: float,\n",
    "        \n",
    "    Return:\n",
    "        fullname\"\"\"\n",
    "\n",
    "    # Validation\n",
    "    assert(name == str) ,f\"a string is expected, got: {name}\"\n",
    "    fullname = name + str(lastname)\n",
    "\n",
    "    return fullname\n",
    "\n"
   ]
  },
  {
   "cell_type": "code",
   "execution_count": 154,
   "metadata": {},
   "outputs": [
    {
     "ename": "AssertionError",
     "evalue": "a string is expected, got: 123",
     "output_type": "error",
     "traceback": [
      "\u001b[0;31m---------------------------------------------------------------------------\u001b[0m",
      "\u001b[0;31mAssertionError\u001b[0m                            Traceback (most recent call last)",
      "\u001b[0;32m<ipython-input-154-a1506161caa4>\u001b[0m in \u001b[0;36m<module>\u001b[0;34m\u001b[0m\n\u001b[1;32m      1\u001b[0m \u001b[0mname_\u001b[0m \u001b[0;34m=\u001b[0m \u001b[0;36m123\u001b[0m\u001b[0;34m\u001b[0m\u001b[0;34m\u001b[0m\u001b[0m\n\u001b[1;32m      2\u001b[0m \u001b[0mlastname_\u001b[0m \u001b[0;34m=\u001b[0m \u001b[0;34m\"aaa\"\u001b[0m\u001b[0;34m\u001b[0m\u001b[0;34m\u001b[0m\u001b[0m\n\u001b[0;32m----> 3\u001b[0;31m \u001b[0mwriteyourname\u001b[0m\u001b[0;34m(\u001b[0m\u001b[0mname_\u001b[0m\u001b[0;34m,\u001b[0m \u001b[0mlastname_\u001b[0m\u001b[0;34m)\u001b[0m\u001b[0;34m\u001b[0m\u001b[0;34m\u001b[0m\u001b[0m\n\u001b[0m",
      "\u001b[0;32m<ipython-input-153-888bb85633ac>\u001b[0m in \u001b[0;36mwriteyourname\u001b[0;34m(name, lastname)\u001b[0m\n\u001b[1;32m     11\u001b[0m \u001b[0;34m\u001b[0m\u001b[0m\n\u001b[1;32m     12\u001b[0m     \u001b[0;31m# Validation\u001b[0m\u001b[0;34m\u001b[0m\u001b[0;34m\u001b[0m\u001b[0;34m\u001b[0m\u001b[0m\n\u001b[0;32m---> 13\u001b[0;31m     \u001b[0;32massert\u001b[0m\u001b[0;34m(\u001b[0m\u001b[0mname\u001b[0m \u001b[0;34m==\u001b[0m \u001b[0mstr\u001b[0m\u001b[0;34m)\u001b[0m \u001b[0;34m,\u001b[0m\u001b[0;34mf\"a string is expected, got: {name}\"\u001b[0m\u001b[0;34m\u001b[0m\u001b[0;34m\u001b[0m\u001b[0m\n\u001b[0m\u001b[1;32m     14\u001b[0m     \u001b[0mfullname\u001b[0m \u001b[0;34m=\u001b[0m \u001b[0mname\u001b[0m \u001b[0;34m+\u001b[0m \u001b[0mstr\u001b[0m\u001b[0;34m(\u001b[0m\u001b[0mlastname\u001b[0m\u001b[0;34m)\u001b[0m\u001b[0;34m\u001b[0m\u001b[0;34m\u001b[0m\u001b[0m\n\u001b[1;32m     15\u001b[0m \u001b[0;34m\u001b[0m\u001b[0m\n",
      "\u001b[0;31mAssertionError\u001b[0m: a string is expected, got: 123"
     ]
    }
   ],
   "source": [
    "name_ = 123\n",
    "lastname_ = \"aaa\"\n",
    "writeyourname(name_, lastname_)"
   ]
  },
  {
   "cell_type": "code",
   "execution_count": 162,
   "metadata": {},
   "outputs": [
    {
     "ename": "AssertionError",
     "evalue": "expecting a string without letter 'm', got: mauricio",
     "output_type": "error",
     "traceback": [
      "\u001b[0;31m---------------------------------------------------------------------------\u001b[0m",
      "\u001b[0;31mAssertionError\u001b[0m                            Traceback (most recent call last)",
      "\u001b[0;32m<ipython-input-162-fc980e6ae07a>\u001b[0m in \u001b[0;36m<module>\u001b[0;34m\u001b[0m\n\u001b[1;32m     25\u001b[0m \u001b[0mname_\u001b[0m \u001b[0;34m=\u001b[0m \u001b[0;34m\"mauricio\"\u001b[0m\u001b[0;34m\u001b[0m\u001b[0;34m\u001b[0m\u001b[0m\n\u001b[1;32m     26\u001b[0m \u001b[0mlastname_\u001b[0m\u001b[0;34m=\u001b[0m\u001b[0;36m456\u001b[0m\u001b[0;34m\u001b[0m\u001b[0;34m\u001b[0m\u001b[0m\n\u001b[0;32m---> 27\u001b[0;31m \u001b[0mwriteyourname\u001b[0m\u001b[0;34m(\u001b[0m\u001b[0mname_\u001b[0m\u001b[0;34m,\u001b[0m \u001b[0mlastname_\u001b[0m\u001b[0;34m)\u001b[0m\u001b[0;34m\u001b[0m\u001b[0;34m\u001b[0m\u001b[0m\n\u001b[0m",
      "\u001b[0;32m<ipython-input-162-fc980e6ae07a>\u001b[0m in \u001b[0;36mwriteyourname\u001b[0;34m(name, lastname)\u001b[0m\n\u001b[1;32m     11\u001b[0m \u001b[0;34m\u001b[0m\u001b[0m\n\u001b[1;32m     12\u001b[0m     \u001b[0;31m# Validation\u001b[0m\u001b[0;34m\u001b[0m\u001b[0;34m\u001b[0m\u001b[0;34m\u001b[0m\u001b[0m\n\u001b[0;32m---> 13\u001b[0;31m     \u001b[0;32massert\u001b[0m\u001b[0;34m(\u001b[0m\u001b[0misinstance\u001b[0m\u001b[0;34m(\u001b[0m\u001b[0mname\u001b[0m\u001b[0;34m,\u001b[0m \u001b[0mstr\u001b[0m\u001b[0;34m)\u001b[0m \u001b[0;32mand\u001b[0m \u001b[0;34m'm'\u001b[0m \u001b[0;32mnot\u001b[0m \u001b[0;32min\u001b[0m \u001b[0mname\u001b[0m\u001b[0;34m)\u001b[0m \u001b[0;34m,\u001b[0m \u001b[0;34mf\"expecting a string without letter 'm', got: {name}\"\u001b[0m\u001b[0;34m\u001b[0m\u001b[0;34m\u001b[0m\u001b[0m\n\u001b[0m\u001b[1;32m     14\u001b[0m \u001b[0;34m\u001b[0m\u001b[0m\n\u001b[1;32m     15\u001b[0m \u001b[0;34m\u001b[0m\u001b[0m\n",
      "\u001b[0;31mAssertionError\u001b[0m: expecting a string without letter 'm', got: mauricio"
     ]
    }
   ],
   "source": [
    "import numpy as np\n",
    "\n",
    "def writeyourname(name:str, lastname:str) -> str:\n",
    "    \"\"\" return a name \n",
    "    Arg: \n",
    "        name: type: string,\n",
    "        lastname: string,\n",
    "        \n",
    "    Return:\n",
    "        fullname\"\"\"\n",
    "\n",
    "    # Validation\n",
    "    assert(isinstance(name, str) and 'm' not in name) , f\"expecting a string without letter 'm', got: {name}\"\n",
    "\n",
    "\n",
    "\n",
    "\n",
    "\n",
    "\n",
    "\n",
    "    fullname = name + str(lastname)\n",
    "\n",
    "    return fullname\n",
    "\n",
    "name_ = \"mauricio\"\n",
    "lastname_=456\n",
    "writeyourname(name_, lastname_)\n"
   ]
  },
  {
   "cell_type": "code",
   "execution_count": 3,
   "metadata": {},
   "outputs": [],
   "source": [
    "url = \"https://realpython.com/\""
   ]
  },
  {
   "cell_type": "code",
   "execution_count": 4,
   "metadata": {},
   "outputs": [],
   "source": [
    "\n",
    "class roadmap():\n",
    "    def __init__(self, url:str):\n",
    "        \n",
    "        self.url = url \n",
    "        self.driver = None\n",
    "        \n",
    "    def open_browser(self):\n",
    "            \n",
    "        self.driver = webdriver.Chrome(ChromeDriverManager().install())\n",
    "        self.driver.get(self.url)\n",
    "        \n",
    "        return self.driver"
   ]
  },
  {
   "cell_type": "code",
   "execution_count": 5,
   "metadata": {},
   "outputs": [
    {
     "name": "stderr",
     "output_type": "stream",
     "text": [
      "/usr/local/lib/python3.7/site-packages/ipykernel_launcher.py:9: DeprecationWarning: executable_path has been deprecated, please pass in a Service object\n",
      "  if __name__ == '__main__':\n"
     ]
    }
   ],
   "source": [
    "test = roadmap(url)\n",
    "driver = test.open_browser()"
   ]
  },
  {
   "cell_type": "code",
   "execution_count": 14,
   "metadata": {},
   "outputs": [
    {
     "name": "stdout",
     "output_type": "stream",
     "text": [
      "3\n"
     ]
    }
   ],
   "source": [
    "navbar = driver.find_elements(By.XPATH, \"//nav/div/*\")\n",
    "print(len(navbar))"
   ]
  },
  {
   "cell_type": "code",
   "execution_count": 190,
   "metadata": {},
   "outputs": [],
   "source": [
    "core = {\"nav\":\"//nav\", \"div\":\"//nav//div[@class='container flex-row']\"}"
   ]
  },
  {
   "cell_type": "code",
   "execution_count": 191,
   "metadata": {},
   "outputs": [
    {
     "name": "stdout",
     "output_type": "stream",
     "text": [
      "div\n"
     ]
    }
   ],
   "source": [
    "navi = driver.find_elements(By.XPATH, core[\"nav\"])\n",
    "\n",
    "for nav_ in range(0, len(navi)):\n",
    "    l3 = navi[nav_].find_elements(By.XPATH, core[\"div\"])\n",
    "    for div_ in range(0, len(l3)):\n",
    "        print(l3[div_].tag_name)"
   ]
  },
  {
   "cell_type": "code",
   "execution_count": 199,
   "metadata": {},
   "outputs": [
    {
     "ename": "InvalidArgumentException",
     "evalue": "Message: invalid argument: invalid locator\n  (Session info: chrome=106.0.5249.91)\nStacktrace:\n0   chromedriver                        0x0000000101f2a598 chromedriver + 4404632\n1   chromedriver                        0x0000000101eb1fa3 chromedriver + 3911587\n2   chromedriver                        0x0000000101b5ee6a chromedriver + 425578\n3   chromedriver                        0x0000000101b9658c chromedriver + 652684\n4   chromedriver                        0x0000000101b96e91 chromedriver + 654993\n5   chromedriver                        0x0000000101bce2b1 chromedriver + 881329\n6   chromedriver                        0x0000000101bb4dcd chromedriver + 777677\n7   chromedriver                        0x0000000101bcbf79 chromedriver + 872313\n8   chromedriver                        0x0000000101bb4bd3 chromedriver + 777171\n9   chromedriver                        0x0000000101b89ced chromedriver + 601325\n10  chromedriver                        0x0000000101b8ae51 chromedriver + 605777\n11  chromedriver                        0x0000000101efa0ce chromedriver + 4206798\n12  chromedriver                        0x0000000101efe797 chromedriver + 4224919\n13  chromedriver                        0x0000000101f05a4f chromedriver + 4254287\n14  chromedriver                        0x0000000101eff4da chromedriver + 4228314\n15  chromedriver                        0x0000000101ed823f chromedriver + 4067903\n16  chromedriver                        0x0000000101f1c6a8 chromedriver + 4347560\n17  chromedriver                        0x0000000101f1c816 chromedriver + 4347926\n18  chromedriver                        0x0000000101f318fe chromedriver + 4434174\n19  libsystem_pthread.dylib             0x00007fff2068f8fc _pthread_start + 224\n20  libsystem_pthread.dylib             0x00007fff2068b443 thread_start + 15\n",
     "output_type": "error",
     "traceback": [
      "\u001b[0;31m---------------------------------------------------------------------------\u001b[0m",
      "\u001b[0;31mInvalidArgumentException\u001b[0m                  Traceback (most recent call last)",
      "\u001b[0;32m<ipython-input-199-fcda6ab6df4d>\u001b[0m in \u001b[0;36m<module>\u001b[0;34m\u001b[0m\n\u001b[0;32m----> 1\u001b[0;31m \u001b[0mnavi\u001b[0m\u001b[0;34m[\u001b[0m\u001b[0;36m0\u001b[0m\u001b[0;34m]\u001b[0m\u001b[0;34m.\u001b[0m\u001b[0mparent\u001b[0m\u001b[0;34m.\u001b[0m\u001b[0mfind_elements\u001b[0m\u001b[0;34m(\u001b[0m\u001b[0;34m\"//*\"\u001b[0m\u001b[0;34m)\u001b[0m\u001b[0;34m\u001b[0m\u001b[0;34m\u001b[0m\u001b[0m\n\u001b[0m",
      "\u001b[0;32m/usr/local/lib/python3.7/site-packages/selenium/webdriver/remote/webdriver.py\u001b[0m in \u001b[0;36mfind_elements\u001b[0;34m(self, by, value)\u001b[0m\n\u001b[1;32m    888\u001b[0m         return self.execute(Command.FIND_ELEMENTS, {\n\u001b[1;32m    889\u001b[0m             \u001b[0;34m'using'\u001b[0m\u001b[0;34m:\u001b[0m \u001b[0mby\u001b[0m\u001b[0;34m,\u001b[0m\u001b[0;34m\u001b[0m\u001b[0;34m\u001b[0m\u001b[0m\n\u001b[0;32m--> 890\u001b[0;31m             'value': value})['value'] or []\n\u001b[0m\u001b[1;32m    891\u001b[0m \u001b[0;34m\u001b[0m\u001b[0m\n\u001b[1;32m    892\u001b[0m     \u001b[0;34m@\u001b[0m\u001b[0mproperty\u001b[0m\u001b[0;34m\u001b[0m\u001b[0;34m\u001b[0m\u001b[0m\n",
      "\u001b[0;32m/usr/local/lib/python3.7/site-packages/selenium/webdriver/remote/webdriver.py\u001b[0m in \u001b[0;36mexecute\u001b[0;34m(self, driver_command, params)\u001b[0m\n\u001b[1;32m    426\u001b[0m         \u001b[0mresponse\u001b[0m \u001b[0;34m=\u001b[0m \u001b[0mself\u001b[0m\u001b[0;34m.\u001b[0m\u001b[0mcommand_executor\u001b[0m\u001b[0;34m.\u001b[0m\u001b[0mexecute\u001b[0m\u001b[0;34m(\u001b[0m\u001b[0mdriver_command\u001b[0m\u001b[0;34m,\u001b[0m \u001b[0mparams\u001b[0m\u001b[0;34m)\u001b[0m\u001b[0;34m\u001b[0m\u001b[0;34m\u001b[0m\u001b[0m\n\u001b[1;32m    427\u001b[0m         \u001b[0;32mif\u001b[0m \u001b[0mresponse\u001b[0m\u001b[0;34m:\u001b[0m\u001b[0;34m\u001b[0m\u001b[0;34m\u001b[0m\u001b[0m\n\u001b[0;32m--> 428\u001b[0;31m             \u001b[0mself\u001b[0m\u001b[0;34m.\u001b[0m\u001b[0merror_handler\u001b[0m\u001b[0;34m.\u001b[0m\u001b[0mcheck_response\u001b[0m\u001b[0;34m(\u001b[0m\u001b[0mresponse\u001b[0m\u001b[0;34m)\u001b[0m\u001b[0;34m\u001b[0m\u001b[0;34m\u001b[0m\u001b[0m\n\u001b[0m\u001b[1;32m    429\u001b[0m             response['value'] = self._unwrap_value(\n\u001b[1;32m    430\u001b[0m                 response.get('value', None))\n",
      "\u001b[0;32m/usr/local/lib/python3.7/site-packages/selenium/webdriver/remote/errorhandler.py\u001b[0m in \u001b[0;36mcheck_response\u001b[0;34m(self, response)\u001b[0m\n\u001b[1;32m    241\u001b[0m                 \u001b[0malert_text\u001b[0m \u001b[0;34m=\u001b[0m \u001b[0mvalue\u001b[0m\u001b[0;34m[\u001b[0m\u001b[0;34m'alert'\u001b[0m\u001b[0;34m]\u001b[0m\u001b[0;34m.\u001b[0m\u001b[0mget\u001b[0m\u001b[0;34m(\u001b[0m\u001b[0;34m'text'\u001b[0m\u001b[0;34m)\u001b[0m\u001b[0;34m\u001b[0m\u001b[0;34m\u001b[0m\u001b[0m\n\u001b[1;32m    242\u001b[0m             \u001b[0;32mraise\u001b[0m \u001b[0mexception_class\u001b[0m\u001b[0;34m(\u001b[0m\u001b[0mmessage\u001b[0m\u001b[0;34m,\u001b[0m \u001b[0mscreen\u001b[0m\u001b[0;34m,\u001b[0m \u001b[0mstacktrace\u001b[0m\u001b[0;34m,\u001b[0m \u001b[0malert_text\u001b[0m\u001b[0;34m)\u001b[0m  \u001b[0;31m# type: ignore[call-arg]  # mypy is not smart enough here\u001b[0m\u001b[0;34m\u001b[0m\u001b[0;34m\u001b[0m\u001b[0m\n\u001b[0;32m--> 243\u001b[0;31m         \u001b[0;32mraise\u001b[0m \u001b[0mexception_class\u001b[0m\u001b[0;34m(\u001b[0m\u001b[0mmessage\u001b[0m\u001b[0;34m,\u001b[0m \u001b[0mscreen\u001b[0m\u001b[0;34m,\u001b[0m \u001b[0mstacktrace\u001b[0m\u001b[0;34m)\u001b[0m\u001b[0;34m\u001b[0m\u001b[0;34m\u001b[0m\u001b[0m\n\u001b[0m",
      "\u001b[0;31mInvalidArgumentException\u001b[0m: Message: invalid argument: invalid locator\n  (Session info: chrome=106.0.5249.91)\nStacktrace:\n0   chromedriver                        0x0000000101f2a598 chromedriver + 4404632\n1   chromedriver                        0x0000000101eb1fa3 chromedriver + 3911587\n2   chromedriver                        0x0000000101b5ee6a chromedriver + 425578\n3   chromedriver                        0x0000000101b9658c chromedriver + 652684\n4   chromedriver                        0x0000000101b96e91 chromedriver + 654993\n5   chromedriver                        0x0000000101bce2b1 chromedriver + 881329\n6   chromedriver                        0x0000000101bb4dcd chromedriver + 777677\n7   chromedriver                        0x0000000101bcbf79 chromedriver + 872313\n8   chromedriver                        0x0000000101bb4bd3 chromedriver + 777171\n9   chromedriver                        0x0000000101b89ced chromedriver + 601325\n10  chromedriver                        0x0000000101b8ae51 chromedriver + 605777\n11  chromedriver                        0x0000000101efa0ce chromedriver + 4206798\n12  chromedriver                        0x0000000101efe797 chromedriver + 4224919\n13  chromedriver                        0x0000000101f05a4f chromedriver + 4254287\n14  chromedriver                        0x0000000101eff4da chromedriver + 4228314\n15  chromedriver                        0x0000000101ed823f chromedriver + 4067903\n16  chromedriver                        0x0000000101f1c6a8 chromedriver + 4347560\n17  chromedriver                        0x0000000101f1c816 chromedriver + 4347926\n18  chromedriver                        0x0000000101f318fe chromedriver + 4434174\n19  libsystem_pthread.dylib             0x00007fff2068f8fc _pthread_start + 224\n20  libsystem_pthread.dylib             0x00007fff2068b443 thread_start + 15\n"
     ]
    }
   ],
   "source": []
  },
  {
   "cell_type": "markdown",
   "metadata": {},
   "source": [
    "how to iterate in between child and parent in selenium \n",
    "*CSS selector\n",
    "\n",
    "find the best way to write the road map of the titles using \n",
    "* XPATH:contains  \n",
    "\n",
    "old hw report\n",
    "assert\n",
    "\n",
    "regex\n"
   ]
  },
  {
   "cell_type": "markdown",
   "metadata": {},
   "source": [
    "### REGEX"
   ]
  },
  {
   "cell_type": "markdown",
   "metadata": {},
   "source": [
    ". - any character except new line\n",
    "[]\n",
    "{}\n",
    "(\n",
    ")\n",
    "\\\n",
    "^ - begining of str\n",
    "$ - end of str \n",
    "|\n",
    "?\n",
    "*\n",
    "+"
   ]
  }
 ],
 "metadata": {
  "kernelspec": {
   "display_name": "Python 3.7.5 64-bit",
   "language": "python",
   "name": "python3"
  },
  "language_info": {
   "codemirror_mode": {
    "name": "ipython",
    "version": 3
   },
   "file_extension": ".py",
   "mimetype": "text/x-python",
   "name": "python",
   "nbconvert_exporter": "python",
   "pygments_lexer": "ipython3",
   "version": "3.7.5"
  },
  "orig_nbformat": 4,
  "vscode": {
   "interpreter": {
    "hash": "aee8b7b246df8f9039afb4144a1f6fd8d2ca17a180786b69acc140d282b71a49"
   }
  }
 },
 "nbformat": 4,
 "nbformat_minor": 2
}
